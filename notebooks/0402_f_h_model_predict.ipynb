{
 "cells": [
  {
   "cell_type": "markdown",
   "metadata": {},
   "source": [
    "02で前処理をしたデータの読み込みと03で学習したモデルを使って推論を行うためのnotebookです。  "
   ]
  },
  {
   "cell_type": "markdown",
   "metadata": {},
   "source": [
    "## 必要なライブラリのimport"
   ]
  },
  {
   "cell_type": "code",
   "execution_count": 1,
   "metadata": {},
   "outputs": [],
   "source": [
    "import numpy as np\n",
    "import pandas as pd\n",
    "import lightgbm as lgb\n",
    "from sklearn.metrics import mean_squared_error\n",
    "import pickle"
   ]
  },
  {
   "cell_type": "code",
   "execution_count": 2,
   "metadata": {},
   "outputs": [],
   "source": [
    "# 予測したいデータの読み込み\n",
    "test = pd.read_csv('../data/processed/processed20240621_test.csv')"
   ]
  },
  {
   "cell_type": "markdown",
   "metadata": {},
   "source": [
    "## 保存されたモデルを使って予測を行う"
   ]
  },
  {
   "cell_type": "code",
   "execution_count": 3,
   "metadata": {},
   "outputs": [],
   "source": [
    "features = ['elapsed_time', 'hist_category_1_sum', 'hist_installments_sum',\n",
    " 'hist_purchase_date_ptp', 'hist_purchase_date_min', 'hist_month_diff_mean',\n",
    " 'hist_merchant_avg_purchases_lag3_sum', 'hist_merchant_active_months_lag12_sum',\n",
    " 'auth_category_1_sum', 'auth_category_1_mean', 'auth_purchase_amount_sum',\n",
    " 'auth_installments_sum', 'auth_purchase_month_std', 'auth_purchase_date_ptp',\n",
    " 'auth_purchase_date_min', 'auth_purchase_date_max', 'auth_month_lag_mean',\n",
    " 'auth_month_diff_mean', 'auth_merchant_group_id_nunique',\n",
    " 'auth_merchant_avg_purchases_lag3_min', 'new_category_1_sum',\n",
    " 'new_category_1_mean', 'new_purchase_amount_sum', 'new_purchase_amount_mean',\n",
    " 'new_purchase_amount_max', 'new_purchase_amount_std', 'new_purchase_month_mean',\n",
    " 'new_purchase_date_ptp', 'new_purchase_date_min', 'new_purchase_date_max',\n",
    " 'new_month_lag_mean', 'new_merchant_avg_purchases_lag6_sum', 'month_lag_std',\n",
    " 'purchase_amount_count_mean', 'purchase_amount_mean_mean',\n",
    " 'purchase_amount_max_mean', 'authorized_flag_mean']"
   ]
  },
  {
   "cell_type": "code",
   "execution_count": 4,
   "metadata": {},
   "outputs": [],
   "source": [
    "n_folds = 5\n",
    "predictions = np.zeros(len(test))\n",
    "\n",
    "for fold_ in range(n_folds):\n",
    "    # モデルを読み込む\n",
    "    with open(f'../src/models/model_fold_{fold_}.pkl', 'rb') as f:\n",
    "        clf = pickle.load(f)\n",
    "    \n",
    "    # モデルで予測を行う\n",
    "    fold_predictions = clf.predict(test[features])\n",
    "    \n",
    "    # 予測結果を足し合わせる\n",
    "    predictions += fold_predictions\n",
    "\n",
    "# 平均を取る\n",
    "predictions /= n_folds\n",
    "\n",
    "# RMSEを計算する（テストデータに対して真の値がある場合）\n",
    "# y_testが存在する場合に限り\n",
    "if 'y_test' in locals():\n",
    "    score = mean_squared_error(y_test, predictions, squared=False)\n",
    "    print(f'RMSE={score}')"
   ]
  },
  {
   "cell_type": "code",
   "execution_count": 5,
   "metadata": {},
   "outputs": [],
   "source": [
    "# 外れ値\n",
    "\n",
    "predictions_out = np.where(predictions < -17, -33.21928095, predictions)"
   ]
  },
  {
   "cell_type": "markdown",
   "metadata": {},
   "source": [
    "## 提出用ファイルの作成"
   ]
  },
  {
   "cell_type": "code",
   "execution_count": 6,
   "metadata": {},
   "outputs": [],
   "source": [
    "sub_df = pd.DataFrame({\"card_id\":test[\"card_id\"].values})\n",
    "sub_df[\"target\"] = predictions_out\n",
    "sub_df.to_csv(\"submit3.csv\", index=False)"
   ]
  }
 ],
 "metadata": {
  "kernelspec": {
   "display_name": "Python 3",
   "language": "python",
   "name": "python3"
  },
  "language_info": {
   "codemirror_mode": {
    "name": "ipython",
    "version": 3
   },
   "file_extension": ".py",
   "mimetype": "text/x-python",
   "name": "python",
   "nbconvert_exporter": "python",
   "pygments_lexer": "ipython3",
   "version": "3.12.4"
  }
 },
 "nbformat": 4,
 "nbformat_minor": 2
}
