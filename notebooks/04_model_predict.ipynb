{
 "cells": [
  {
   "cell_type": "markdown",
   "metadata": {},
   "source": [
    "02で前処理をしたデータの読み込みと03で学習したモデルを使って推論を行うためのnotebookです。  "
   ]
  },
  {
   "cell_type": "markdown",
   "metadata": {},
   "source": [
    "## 必要なライブラリのimport"
   ]
  },
  {
   "cell_type": "code",
   "execution_count": 10,
   "metadata": {},
   "outputs": [],
   "source": [
    "import numpy as np\n",
    "import pandas as pd\n",
    "import lightgbm as lgb\n",
    "from sklearn.metrics import mean_squared_error\n",
    "import pickle"
   ]
  },
  {
   "cell_type": "code",
   "execution_count": 11,
   "metadata": {},
   "outputs": [],
   "source": [
    "# 予測したいデータの読み込み\n",
    "test = pd.read_csv('../data/processed/processed20240627_test.csv')"
   ]
  },
  {
   "cell_type": "markdown",
   "metadata": {},
   "source": [
    "## 保存されたモデルを使って予測を行う"
   ]
  },
  {
   "cell_type": "code",
   "execution_count": 12,
   "metadata": {},
   "outputs": [],
   "source": [
    "n_folds = 5\n",
    "predictions_lgb = np.zeros(len(test))\n",
    "predictions_xgb = np.zeros(len(test))\n",
    "predictions_ctb = np.zeros(len(test))\n",
    "features = [c for c in test.columns if c not in ['card_id', 'first_active_month']]\n",
    "\n",
    "for fold_ in range(n_folds):\n",
    "    # モデルを読み込む\n",
    "    with open(f'../src/models/model_lgb_fold_{fold_}.pkl', 'rb') as f:\n",
    "        lgb = pickle.load(f)\n",
    "    with open(f'../src/models/model_xgb_fold_{fold_}.pkl', 'rb') as f:\n",
    "        xgb = pickle.load(f)\n",
    "    with open(f'../src/models/model_ctb_fold_{fold_}.pkl', 'wb') as f:\n",
    "        ctb = pickle.load(f)\n",
    "    # モデルで予測を行う\n",
    "    lgb_predictions = lgb.predict(test[features])\n",
    "    xgb_predictions = xgb.predict(test[features])\n",
    "    ctb_predictions = ctb.predict(test[features])\n",
    "\n",
    "    # 予測結果を足し合わせる\n",
    "    predictions_lgb += lgb_predictions\n",
    "    predictions_xgb += xgb_predictions\n",
    "    predictions_ctb += ctb_predictions"
   ]
  },
  {
   "cell_type": "code",
   "execution_count": null,
   "metadata": {},
   "outputs": [],
   "source": [
    "\n",
    "# 最適な重みを使って最終予測を計算\n",
    "final_predictions = (predictions_lgb *  +\n",
    "                     predictions_xgb *  +\n",
    "                     predictions_ctb * ) / 3\n",
    "\n",
    "submission = pd.DataFrame({\n",
    "    'card_id': test['card_id'],\n",
    "    'target': final_predictions\n",
    "})\n",
    "submission.to_csv(\"../data/row/submit.csv\", index=False)\n"
   ]
  },
  {
   "cell_type": "code",
   "execution_count": null,
   "metadata": {},
   "outputs": [],
   "source": []
  },
  {
   "cell_type": "code",
   "execution_count": 13,
   "metadata": {},
   "outputs": [
    {
     "name": "stdout",
     "output_type": "stream",
     "text": [
      "[-4.15466647 -0.37102097 -1.44592203 ...  0.8826852  -4.93927113\n",
      "  0.154925  ]\n"
     ]
    }
   ],
   "source": [
    "# 予測結果を出力する\n",
    "print(predictions)"
   ]
  },
  {
   "cell_type": "markdown",
   "metadata": {},
   "source": [
    "## 提出用ファイルの作成"
   ]
  },
  {
   "cell_type": "code",
   "execution_count": 15,
   "metadata": {},
   "outputs": [],
   "source": [
    "sub_df = pd.DataFrame({\"card_id\":test[\"card_id\"].values})\n",
    "sub_df[\"target\"] = predictions\n",
    "sub_df.to_csv(\"../data/row/submit.csv\", index=False)"
   ]
  }
 ],
 "metadata": {
  "kernelspec": {
   "display_name": "Python 3",
   "language": "python",
   "name": "python3"
  },
  "language_info": {
   "codemirror_mode": {
    "name": "ipython",
    "version": 3
   },
   "file_extension": ".py",
   "mimetype": "text/x-python",
   "name": "python",
   "nbconvert_exporter": "python",
   "pygments_lexer": "ipython3",
   "version": "3.11.9"
  }
 },
 "nbformat": 4,
 "nbformat_minor": 2
}
